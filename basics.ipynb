{
 "cells": [
  {
   "cell_type": "code",
   "execution_count": 2,
   "id": "c4e8cb6a-c45a-4ca4-a2bf-4594f0b7316c",
   "metadata": {},
   "outputs": [
    {
     "name": "stdout",
     "output_type": "stream",
     "text": [
      " Volume in drive C has no label.\n",
      " Volume Serial Number is 6688-5A69\n",
      "\n",
      " Directory of C:\\Users\\Pakistan\\Git\\Automated-Essay-Scoring\n",
      "\n",
      "05/08/2024  10:17 PM    <DIR>          .\n",
      "05/08/2024  10:17 PM    <DIR>          ..\n",
      "05/08/2024  10:15 PM    <DIR>          .ipynb_checkpoints\n",
      "05/08/2024  10:17 PM             2,067 basics.ipynb\n",
      "03/26/2024  08:42 PM        12,464,821 learning-agency-lab-automated-essay-scoring-2.zip\n",
      "05/08/2024  10:14 PM                25 README.md\n",
      "               3 File(s)     12,466,913 bytes\n",
      "               3 Dir(s)  61,640,531,968 bytes free\n"
     ]
    }
   ],
   "source": [
    "%ls"
   ]
  },
  {
   "cell_type": "code",
   "execution_count": 4,
   "id": "634cf572-3f44-4710-b011-f22e43499214",
   "metadata": {},
   "outputs": [],
   "source": [
    "!tar -xf learning-agency-lab-automated-essay-scoring-2.zip"
   ]
  },
  {
   "cell_type": "code",
   "execution_count": null,
   "id": "b0eefda8-c9d2-4540-b494-76540c485457",
   "metadata": {},
   "outputs": [],
   "source": []
  }
 ],
 "metadata": {
  "kernelspec": {
   "display_name": "Python 3 (ipykernel)",
   "language": "python",
   "name": "python3"
  },
  "language_info": {
   "codemirror_mode": {
    "name": "ipython",
    "version": 3
   },
   "file_extension": ".py",
   "mimetype": "text/x-python",
   "name": "python",
   "nbconvert_exporter": "python",
   "pygments_lexer": "ipython3",
   "version": "3.12.2"
  }
 },
 "nbformat": 4,
 "nbformat_minor": 5
}
